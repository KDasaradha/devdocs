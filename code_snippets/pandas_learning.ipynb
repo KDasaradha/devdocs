{
 "cells": [
  {
   "cell_type": "markdown",
   "id": "255231d2-2706-453c-8ffb-5ac948b8a81d",
   "metadata": {},
   "source": [
    "## Pandas\n",
    "Pandas is developed on top of numpy for heavier data processing.\n",
    "It has series and dataframe two things\n",
    "Series is a single dimensional array having any datatypes like dit, list, object, static by default float64\n"
   ]
  },
  {
   "cell_type": "code",
   "execution_count": 1,
   "id": "c559c8bd-80b3-4988-bfc8-af695627d14b",
   "metadata": {},
   "outputs": [
    {
     "name": "stdout",
     "output_type": "stream",
     "text": [
      "RangeIndex(start=0, stop=4, step=1)\n",
      "[2 4 6 8]\n",
      "Index(['a', 'b', 'c'], dtype='object')\n",
      "[11.2 18.6 22.5]\n"
     ]
    }
   ],
   "source": [
    "import pandas as pd   \n",
    "x=pd.Series(data=[2,4,6,8])   \n",
    "y=pd.Series(data=[11.2,18.6,22.5], index=['a','b','c'])   \n",
    "print(x.index)   \n",
    "print(x.values)   \n",
    "print(y.index)   \n",
    "print(y.values)  "
   ]
  },
  {
   "cell_type": "markdown",
   "id": "d9c66415-0cba-4d03-9316-49edf929da39",
   "metadata": {},
   "source": [
    "Retrieving Types (dtype) and Size of Type (itemsize)"
   ]
  },
  {
   "cell_type": "code",
   "execution_count": 4,
   "id": "69c88eac-75a0-4237-9635-31f39f360aaf",
   "metadata": {},
   "outputs": [
    {
     "name": "stdout",
     "output_type": "stream",
     "text": [
      "int64\n",
      "8\n",
      "float64\n",
      "8\n"
     ]
    }
   ],
   "source": [
    "import pandas as pd   \n",
    "a=pd.Series(data=[1,2,3,4])   \n",
    "b=pd.Series(data=[4.9,8.2,5.6],   \n",
    "index=['x','y','z'])   \n",
    "print(a.dtype)   \n",
    "print(a.dtype.itemsize)    \n",
    "print(b.dtype)   \n",
    "print(b.dtype.itemsize) "
   ]
  },
  {
   "cell_type": "markdown",
   "id": "a4b92c5c-2bf0-4912-8f48-86f89c73260c",
   "metadata": {},
   "source": [
    "Retrieving Shape"
   ]
  },
  {
   "cell_type": "code",
   "execution_count": 5,
   "id": "71bfe0d5-2e9e-4cf3-821b-16866c2ea4b9",
   "metadata": {},
   "outputs": [
    {
     "name": "stdout",
     "output_type": "stream",
     "text": [
      "(4,)\n",
      "(3,)\n"
     ]
    }
   ],
   "source": [
    "import pandas as pd   \n",
    "a=pd.Series(data=[1,2,3,4])   \n",
    "b=pd.Series(data=[4.9,8.2,5.6],index=['x','y','z'])   \n",
    "print(a.shape)   \n",
    "print(b.shape) "
   ]
  },
  {
   "cell_type": "markdown",
   "id": "4ee3ac44-3d66-45f4-8a34-2fcb2cdf3558",
   "metadata": {},
   "source": [
    "Retrieving Dimension, Size and Number of bytes:"
   ]
  },
  {
   "cell_type": "code",
   "execution_count": 6,
   "id": "9d30c455-3b9f-498a-bed9-f6ad6e3151da",
   "metadata": {},
   "outputs": [
    {
     "name": "stdout",
     "output_type": "stream",
     "text": [
      "1 1\n",
      "4 3\n",
      "32 24\n"
     ]
    }
   ],
   "source": [
    "import pandas as pd   \n",
    "a=pd.Series(data=[1,2,3,4])   \n",
    "b=pd.Series(data=[4.9,8.2,5.6],  \n",
    "index=['x','y','z'])   \n",
    "print(a.ndim, b.ndim)   \n",
    "print(a.size, b.size)   \n",
    "print(a.nbytes, b.nbytes)"
   ]
  },
  {
   "cell_type": "markdown",
   "id": "1f516f9e-b840-4b30-a6bc-e99edee706ff",
   "metadata": {},
   "source": [
    "Checking Emptiness and Presence of NaNs"
   ]
  },
  {
   "cell_type": "code",
   "execution_count": 9,
   "id": "ed8b054a-cd20-4aa9-bc86-1381275b59d7",
   "metadata": {},
   "outputs": [
    {
     "name": "stdout",
     "output_type": "stream",
     "text": [
      "False False True\n",
      "True False False\n",
      "4 3 0\n",
      "3 3 0\n"
     ]
    }
   ],
   "source": [
    "import numpy as np   \n",
    "import pandas as pd   \n",
    "a=pd.Series(data=[1,2,3,np.NaN])   \n",
    "b=pd.Series(data=[4.9,8.2,5.6],index=['x','y','z'])   \n",
    "c=pd.Series()   \n",
    "print(a.empty,b.empty,c.empty)   \n",
    "print(a.hasnans,b.hasnans,c.hasnans)   \n",
    "print(len(a),len(b), len(c))   \n",
    "print(a.count( ),b.count( ), c.count())  "
   ]
  },
  {
   "cell_type": "markdown",
   "id": "caf592d6-bb60-4c78-9669-b3562cf67b68",
   "metadata": {},
   "source": [
    "Pandas Serires.map()"
   ]
  },
  {
   "cell_type": "code",
   "execution_count": 13,
   "id": "129f9943-78b7-43ba-bcad-d9cf5216abee",
   "metadata": {},
   "outputs": [
    {
     "name": "stdout",
     "output_type": "stream",
     "text": [
      "RangeIndex(start=0, stop=4, step=1)\n",
      "['Java' 'C' 'C++' nan]\n"
     ]
    },
    {
     "data": {
      "text/plain": [
       "0    Core\n",
       "1     NaN\n",
       "2     NaN\n",
       "3     NaN\n",
       "dtype: object"
      ]
     },
     "execution_count": 13,
     "metadata": {},
     "output_type": "execute_result"
    }
   ],
   "source": [
    "import pandas as pd  \n",
    "import numpy as np  \n",
    "a = pd.Series(['Java', 'C', 'C++', np.nan])  \n",
    "print(a.index)\n",
    "print(a.values)\n",
    "a.map({'Java': 'Core'})  "
   ]
  },
  {
   "cell_type": "code",
   "execution_count": 14,
   "id": "48580ece-4e9f-4d72-bf95-e3331627dfdb",
   "metadata": {},
   "outputs": [
    {
     "data": {
      "text/plain": [
       "0    I like Java\n",
       "1       I like C\n",
       "2     I like C++\n",
       "3            NaN\n",
       "dtype: object"
      ]
     },
     "execution_count": 14,
     "metadata": {},
     "output_type": "execute_result"
    }
   ],
   "source": [
    "import pandas as pd  \n",
    "import numpy as np  \n",
    "a = pd.Series(['Java', 'C', 'C++', np.nan])  \n",
    "a.map({'Java': 'Core'})  \n",
    "a.map('I like {}'.format, na_action='ignore')  "
   ]
  },
  {
   "cell_type": "code",
   "execution_count": 18,
   "id": "d9e5bf41-6f07-40ff-8b00-7693d948a5f5",
   "metadata": {},
   "outputs": [
    {
     "data": {
      "text/plain": [
       "0    Core\n",
       "1     NaN\n",
       "2     NaN\n",
       "3     NaN\n",
       "dtype: object"
      ]
     },
     "execution_count": 18,
     "metadata": {},
     "output_type": "execute_result"
    }
   ],
   "source": [
    "import pandas as pd  \n",
    "import numpy as np  \n",
    "a = pd.Series(['Java', 'C', 'C++', np.nan])  \n",
    "a.map({'Java': 'Core'})   "
   ]
  },
  {
   "cell_type": "code",
   "execution_count": 19,
   "id": "04e33de9-6e66-4902-941a-dfa5d9a22b5a",
   "metadata": {},
   "outputs": [
    {
     "data": {
      "text/plain": [
       "0    I like Java\n",
       "1       I like C\n",
       "2     I like C++\n",
       "3     I like nan\n",
       "dtype: object"
      ]
     },
     "execution_count": 19,
     "metadata": {},
     "output_type": "execute_result"
    }
   ],
   "source": [
    "a.map('I like {}'.format)  "
   ]
  },
  {
   "cell_type": "code",
   "execution_count": 20,
   "id": "959d8d3b-dd77-40fb-8642-8369447dd26d",
   "metadata": {},
   "outputs": [
    {
     "data": {
      "text/plain": [
       "0    I like Java\n",
       "1       I like C\n",
       "2     I like C++\n",
       "3            NaN\n",
       "dtype: object"
      ]
     },
     "execution_count": 20,
     "metadata": {},
     "output_type": "execute_result"
    }
   ],
   "source": [
    "a.map('I like {}'.format, na_action='ignore') "
   ]
  },
  {
   "cell_type": "markdown",
   "id": "69f208c2-ceeb-4e90-8f64-166e748794a0",
   "metadata": {},
   "source": [
    "## Pandas Series.std()\n",
    "### Syntax:\n",
    "Series.std(axis=None, skipna=None, level=None, ddof=1, numeric_only=None, **kwargs)  \n",
    "### Parameters:\n",
    "- axis: {index (0), columns (1)}\n",
    "- skipna: It excludes all the NA/null values. If NA is present in an entire row/column, the result will be NA.\n",
    "- level: It counts along with a particular level, and collapsing into a scalar if the axis is a MultiIndex (hierarchical).\n",
    "- ddof: Delta Degrees of Freedom. The divisor used in calculations is N - ddof, where N represents the number of elements.\n",
    "- numeric_only: boolean, default value None\n",
    "\n",
    "It includes only float, int, boolean columns. If it is None, it will attempt to use everything, so use only numeric data.\n",
    "\n",
    "It is not implemented for a Series."
   ]
  },
  {
   "cell_type": "code",
   "execution_count": 21,
   "id": "290a0735-7d16-4770-a8fd-565a45e547b0",
   "metadata": {},
   "outputs": [
    {
     "name": "stdout",
     "output_type": "stream",
     "text": [
      "2.1147629234082532\n",
      "10.077252622027656\n"
     ]
    }
   ],
   "source": [
    "import pandas as pd  \n",
    "# calculate standard deviation  \n",
    "import numpy as np   \n",
    "print(np.std([4,7,2,1,6,3]))  \n",
    "print(np.std([6,9,15,2,-17,15,4]))  "
   ]
  },
  {
   "cell_type": "code",
   "execution_count": 24,
   "id": "ec431878-bf78-4a67-8a9f-30ac55b431f8",
   "metadata": {},
   "outputs": [
    {
     "name": "stdout",
     "output_type": "stream",
     "text": [
      "      Name  sub1_Marks  sub2_Marks\n",
      "0   Parker          52          41\n",
      "1    Smith          38          35\n",
      "2     John          42          29\n",
      "3  William          37          36\n",
      "sub1_Marks    6.849574\n",
      "sub2_Marks    4.924429\n",
      "dtype: float64\n"
     ]
    }
   ],
   "source": [
    "import pandas as pd  \n",
    "import numpy as np  \n",
    "\n",
    "# Create a DataFrame  \n",
    "info = {  \n",
    "    'Name': ['Parker', 'Smith', 'John', 'William'],  \n",
    "    'sub1_Marks': [52, 38, 42, 37],  \n",
    "    'sub2_Marks': [41, 35, 29, 36]  \n",
    "}   \n",
    "data = pd.DataFrame(info)  \n",
    "\n",
    "# Display the DataFrame\n",
    "print(data)\n",
    "\n",
    "# Calculate standard deviation of the DataFrame\n",
    "std_dev = data[['sub1_Marks', 'sub2_Marks']].std()  # Only apply std to numeric columns\n",
    "print(std_dev)\n"
   ]
  },
  {
   "cell_type": "markdown",
   "id": "4b27d97b-9c06-4b36-a5de-0a6e5f5f520d",
   "metadata": {},
   "source": [
    "## Pandas Series.to_frame()\n",
    "\n",
    "Series can only contain a single list with a particular index, whereas the DataFrame is a combination of more than one series that can analyze the data."
   ]
  },
  {
   "cell_type": "code",
   "execution_count": 25,
   "id": "e883e0e4-bbfa-44ca-b88f-7d94b21d9a0b",
   "metadata": {},
   "outputs": [
    {
     "data": {
      "text/html": [
       "<div>\n",
       "<style scoped>\n",
       "    .dataframe tbody tr th:only-of-type {\n",
       "        vertical-align: middle;\n",
       "    }\n",
       "\n",
       "    .dataframe tbody tr th {\n",
       "        vertical-align: top;\n",
       "    }\n",
       "\n",
       "    .dataframe thead th {\n",
       "        text-align: right;\n",
       "    }\n",
       "</style>\n",
       "<table border=\"1\" class=\"dataframe\">\n",
       "  <thead>\n",
       "    <tr style=\"text-align: right;\">\n",
       "      <th></th>\n",
       "      <th>vals</th>\n",
       "    </tr>\n",
       "  </thead>\n",
       "  <tbody>\n",
       "    <tr>\n",
       "      <th>0</th>\n",
       "      <td>a</td>\n",
       "    </tr>\n",
       "    <tr>\n",
       "      <th>1</th>\n",
       "      <td>b</td>\n",
       "    </tr>\n",
       "    <tr>\n",
       "      <th>2</th>\n",
       "      <td>c</td>\n",
       "    </tr>\n",
       "  </tbody>\n",
       "</table>\n",
       "</div>"
      ],
      "text/plain": [
       "  vals\n",
       "0    a\n",
       "1    b\n",
       "2    c"
      ]
     },
     "execution_count": 25,
     "metadata": {},
     "output_type": "execute_result"
    }
   ],
   "source": [
    "s = pd.Series([\"a\", \"b\", \"c\"],  \n",
    "name=\"vals\")  \n",
    "s.to_frame()  "
   ]
  },
  {
   "cell_type": "code",
   "execution_count": 27,
   "id": "66597b34-23a9-4ba4-afde-ee557985e962",
   "metadata": {},
   "outputs": [
    {
     "name": "stdout",
     "output_type": "stream",
     "text": [
      "       Emp   ID\n",
      "0   Parker  102\n",
      "1     John  107\n",
      "2    Smith  109\n",
      "3  William  114\n"
     ]
    }
   ],
   "source": [
    "import pandas as pd       \n",
    "emp = ['Parker', 'John', 'Smith', 'William']   \n",
    "id = [102, 107, 109, 114]     \n",
    "emp_series = pd.Series(emp)   \n",
    "id_series = pd.Series(id)     \n",
    "frame = { 'Emp': emp_series, 'ID': id_series }   \n",
    "result = pd.DataFrame(frame)     \n",
    "print(result)  "
   ]
  },
  {
   "cell_type": "markdown",
   "id": "bfa4c414-7b93-4eae-bce4-1721a13b64da",
   "metadata": {},
   "source": [
    "## Pandas Series.unique()"
   ]
  },
  {
   "cell_type": "code",
   "execution_count": 28,
   "id": "ec081039-0767-43a2-9901-70e8f969f652",
   "metadata": {},
   "outputs": [
    {
     "data": {
      "text/plain": [
       "array(['2016-01-01T00:00:00.000000000'], dtype='datetime64[ns]')"
      ]
     },
     "execution_count": 28,
     "metadata": {},
     "output_type": "execute_result"
    }
   ],
   "source": [
    "import pandas as pd  \n",
    "pd.unique(pd.Series([2, 1, 3, 3]))  \n",
    "pd.unique(pd.Series([pd.Timestamp('20160101'),  \n",
    "pd.Timestamp('20160101')]))  "
   ]
  },
  {
   "cell_type": "code",
   "execution_count": 29,
   "id": "f99d0baf-1119-495c-b6a3-8bbd3720b384",
   "metadata": {},
   "outputs": [
    {
     "data": {
      "text/plain": [
       "DatetimeIndex(['2016-01-01 00:00:00-05:00'], dtype='datetime64[ns, US/Eastern]', freq=None)"
      ]
     },
     "execution_count": 29,
     "metadata": {},
     "output_type": "execute_result"
    }
   ],
   "source": [
    "import pandas as pd  \n",
    "import numpy as np  \n",
    "pd.unique(pd.Index([pd.Timestamp('20160101', tz='US/Eastern'),  \n",
    "pd.Timestamp('20160101', tz='US/Eastern')]))  "
   ]
  },
  {
   "cell_type": "markdown",
   "id": "980574ff-9baa-4602-adc9-ee9bd20b9af2",
   "metadata": {},
   "source": [
    "## Pandas Series.value_counts()\n",
    "\n",
    "### Syntax\n",
    "Series.value_counts(normalize=False, sort=True, ascending=False, bins=None, dropna=True)  \n",
    "### Parameters\n",
    "- normalize: If it is true, then the returned object will contain the relative frequencies of the unique values.\n",
    "- sort: It sort by the values.\n",
    "- ascending: It sort in the ascending order.\n",
    "- bins: Rather than counting the values, it groups them into the half-open bins that provide convenience for the pd.cut, which only works with numeric data.\n",
    "- dropna: It does not include counts of NaN."
   ]
  },
  {
   "cell_type": "code",
   "execution_count": 30,
   "id": "4f27164b-17fd-4e8d-b54f-dc0c31fbc896",
   "metadata": {},
   "outputs": [
    {
     "data": {
      "text/plain": [
       "1.0    2\n",
       "2.0    1\n",
       "3.0    1\n",
       "Name: count, dtype: int64"
      ]
     },
     "execution_count": 30,
     "metadata": {},
     "output_type": "execute_result"
    }
   ],
   "source": [
    "import pandas as pd  \n",
    "import numpy as np  \n",
    "index = pd.Index([2, 1, 1, np.nan, 3])  \n",
    "index.value_counts()  "
   ]
  },
  {
   "cell_type": "code",
   "execution_count": 31,
   "id": "41e6ec7b-bd51-4ef8-9a42-8bd4a3babf19",
   "metadata": {},
   "outputs": [
    {
     "data": {
      "text/plain": [
       "1.0    0.50\n",
       "2.0    0.25\n",
       "3.0    0.25\n",
       "Name: proportion, dtype: float64"
      ]
     },
     "execution_count": 31,
     "metadata": {},
     "output_type": "execute_result"
    }
   ],
   "source": [
    "import pandas as pd  \n",
    "import numpy as np  \n",
    "index = pd.Index([2, 1, 1, np.nan, 3])  \n",
    "a = pd.Series([2, 1, 1, np.nan, 3])  \n",
    "a.value_counts(normalize=True)  "
   ]
  },
  {
   "cell_type": "code",
   "execution_count": 34,
   "id": "55bda410-2d9a-42e9-b1a3-efc5261f9200",
   "metadata": {},
   "outputs": [
    {
     "data": {
      "text/plain": [
       "(0.997, 2.0]    4\n",
       "(2.0, 3.0]      1\n",
       "Name: count, dtype: int64"
      ]
     },
     "execution_count": 34,
     "metadata": {},
     "output_type": "execute_result"
    }
   ],
   "source": [
    "import pandas as pd  \n",
    "index = pd.Index([1, 3, 2, 2, 1, np.nan])  \n",
    "index.value_counts()  \n",
    "a = pd.Series([1, 3, 2, 2, 1, np.nan])  \n",
    "a.value_counts(bins=2)  "
   ]
  },
  {
   "cell_type": "code",
   "execution_count": 37,
   "id": "bd99d959-f0a8-4068-895d-fc16ab31713a",
   "metadata": {},
   "outputs": [
    {
     "data": {
      "text/plain": [
       "1.0    2\n",
       "2.0    2\n",
       "3.0    1\n",
       "NaN    1\n",
       "Name: count, dtype: int64"
      ]
     },
     "execution_count": 37,
     "metadata": {},
     "output_type": "execute_result"
    }
   ],
   "source": [
    "import pandas as pd  \n",
    "index = pd.Index([1, 3, 2, 2, 1, np.nan])  \n",
    "index.value_counts()  \n",
    "a = pd.Series([1, 3, 2, 2, 1, np.nan])  \n",
    "a.value_counts(dropna=False)  "
   ]
  },
  {
   "cell_type": "markdown",
   "id": "cc6407b1-d843-4dcd-b67e-3b201a62e6ef",
   "metadata": {},
   "source": [
    "## Python Pandas DataFrame"
   ]
  },
  {
   "cell_type": "code",
   "execution_count": 38,
   "id": "a9a06818-d231-450e-9e0f-80d08910a7b9",
   "metadata": {},
   "outputs": [
    {
     "name": "stdout",
     "output_type": "stream",
     "text": [
      "Empty DataFrame\n",
      "Columns: []\n",
      "Index: []\n"
     ]
    }
   ],
   "source": [
    "# importing the pandas library  \n",
    "import pandas as pd  \n",
    "df = pd.DataFrame()  \n",
    "print (df)  "
   ]
  },
  {
   "cell_type": "markdown",
   "id": "67595685-7a17-474d-959c-3720e6b7d44a",
   "metadata": {},
   "source": [
    "Create a DataFrame using List:"
   ]
  },
  {
   "cell_type": "code",
   "execution_count": 39,
   "id": "bdc884dc-ce6e-46ad-90c5-8acf9ff4bbe0",
   "metadata": {},
   "outputs": [
    {
     "name": "stdout",
     "output_type": "stream",
     "text": [
      "        0\n",
      "0  Python\n",
      "1  Pandas\n"
     ]
    }
   ],
   "source": [
    "# importing the pandas library  \n",
    "import pandas as pd  \n",
    "# a list of strings  \n",
    "x = ['Python', 'Pandas']  \n",
    "  \n",
    "# Calling DataFrame constructor on list  \n",
    "df = pd.DataFrame(x)  \n",
    "print(df) "
   ]
  },
  {
   "cell_type": "markdown",
   "id": "d463f7c1-23fc-4bf7-a0b9-d8ef22fd6a37",
   "metadata": {},
   "source": [
    "Create a DataFrame from Dict of ndarrays/ Lists"
   ]
  },
  {
   "cell_type": "code",
   "execution_count": 40,
   "id": "bbe27521-32a0-4161-b81a-774118b05898",
   "metadata": {},
   "outputs": [
    {
     "name": "stdout",
     "output_type": "stream",
     "text": [
      "    ID Department\n",
      "0  101       B.Sc\n",
      "1  102     B.Tech\n",
      "2  103     M.Tech\n"
     ]
    }
   ],
   "source": [
    "# importing the pandas library  \n",
    "import pandas as pd  \n",
    "info = {'ID' :[101, 102, 103],'Department' :['B.Sc','B.Tech','M.Tech',]}  \n",
    "df = pd.DataFrame(info)  \n",
    "print (df)  "
   ]
  },
  {
   "cell_type": "markdown",
   "id": "6f218248-aa52-456a-b7e6-10656c4286e5",
   "metadata": {},
   "source": [
    "Create a DataFrame from Dict of Series:"
   ]
  },
  {
   "cell_type": "code",
   "execution_count": 41,
   "id": "051dc23c-2123-470c-8dd5-68729273587d",
   "metadata": {},
   "outputs": [
    {
     "name": "stdout",
     "output_type": "stream",
     "text": [
      "   one  two\n",
      "a  1.0    1\n",
      "b  2.0    2\n",
      "c  3.0    3\n",
      "d  4.0    4\n",
      "e  5.0    5\n",
      "f  6.0    6\n",
      "g  NaN    7\n",
      "h  NaN    8\n"
     ]
    }
   ],
   "source": [
    "# importing the pandas library  \n",
    "import pandas as pd  \n",
    "  \n",
    "info = {'one' : pd.Series([1, 2, 3, 4, 5, 6], index=['a', 'b', 'c', 'd', 'e', 'f']),  \n",
    "   'two' : pd.Series([1, 2, 3, 4, 5, 6, 7, 8], index=['a', 'b', 'c', 'd', 'e', 'f', 'g', 'h'])}  \n",
    "  \n",
    "d1 = pd.DataFrame(info)  \n",
    "print (d1)  "
   ]
  },
  {
   "cell_type": "code",
   "execution_count": 45,
   "id": "40dbf3c9-2318-40b9-8038-61f2fa840a37",
   "metadata": {},
   "outputs": [
    {
     "name": "stdout",
     "output_type": "stream",
     "text": [
      "a    1\n",
      "b    2\n",
      "c    3\n",
      "d    4\n",
      "e    5\n",
      "f    6\n",
      "g    7\n",
      "h    8\n",
      "Name: two, dtype: int64\n"
     ]
    }
   ],
   "source": [
    "print (d1 ['two'])"
   ]
  },
  {
   "cell_type": "code",
   "execution_count": 48,
   "id": "1759db6a-3a37-4033-b198-5db149e0c345",
   "metadata": {},
   "outputs": [
    {
     "name": "stdout",
     "output_type": "stream",
     "text": [
      "Add new column by passing series\n",
      "   one  two  three\n",
      "a  1.0    1   20.0\n",
      "b  2.0    2   40.0\n",
      "c  3.0    3   60.0\n",
      "d  4.0    4    NaN\n",
      "e  5.0    5    NaN\n",
      "f  NaN    6    NaN\n",
      "Add new column using existing DataFrame columns\n",
      "   one  two  three  four\n",
      "a  1.0    1   20.0  21.0\n",
      "b  2.0    2   40.0  42.0\n",
      "c  3.0    3   60.0  63.0\n",
      "d  4.0    4    NaN   NaN\n",
      "e  5.0    5    NaN   NaN\n",
      "f  NaN    6    NaN   NaN\n"
     ]
    }
   ],
   "source": [
    "# importing the pandas library  \n",
    "import pandas as pd  \n",
    "  \n",
    "info = {'one' : pd.Series([1, 2, 3, 4, 5], index=['a', 'b', 'c', 'd', 'e']),  \n",
    "   'two' : pd.Series([1, 2, 3, 4, 5, 6], index=['a', 'b', 'c', 'd', 'e', 'f'])}  \n",
    "  \n",
    "df = pd.DataFrame(info)  \n",
    "  \n",
    "# Add a new column to an existing DataFrame object   \n",
    "  \n",
    "print (\"Add new column by passing series\")  \n",
    "df['three']=pd.Series([20,40,60],index=['a','b','c'])  \n",
    "print (df)  \n",
    "  \n",
    "print (\"Add new column using existing DataFrame columns\")  \n",
    "df['four']=df['one']+df['three']  \n",
    "  \n",
    "print (df)  "
   ]
  },
  {
   "cell_type": "code",
   "execution_count": 49,
   "id": "8b9e36eb-3307-4dc2-9fe0-85bedf0fe343",
   "metadata": {},
   "outputs": [
    {
     "name": "stdout",
     "output_type": "stream",
     "text": [
      "The DataFrame:\n",
      "   one  two\n",
      "a  1.0    1\n",
      "b  2.0    2\n",
      "c  NaN    3\n",
      "Delete the first column:\n",
      "   two\n",
      "a    1\n",
      "b    2\n",
      "c    3\n",
      "Delete the another column:\n",
      "Empty DataFrame\n",
      "Columns: []\n",
      "Index: [a, b, c]\n"
     ]
    }
   ],
   "source": [
    "# importing the pandas library  \n",
    "import pandas as pd  \n",
    "  \n",
    "info = {'one' : pd.Series([1, 2], index= ['a', 'b']),   \n",
    "   'two' : pd.Series([1, 2, 3], index=['a', 'b', 'c'])}  \n",
    "     \n",
    "df = pd.DataFrame(info)  \n",
    "print (\"The DataFrame:\")  \n",
    "print (df)  \n",
    "  \n",
    "# using del function  \n",
    "print (\"Delete the first column:\")  \n",
    "del df['one']  \n",
    "print (df)  \n",
    "# using pop function  \n",
    "print (\"Delete the another column:\")  \n",
    "df.pop('two')  \n",
    "print (df)  "
   ]
  },
  {
   "cell_type": "markdown",
   "id": "00cafee4-cd60-4365-bf00-6ae9ac94daf7",
   "metadata": {},
   "source": [
    "Row Selection, Addition, and Deletion"
   ]
  },
  {
   "cell_type": "code",
   "execution_count": 51,
   "id": "eadfce68-bf31-4bc8-a4d0-c390f77a3dc4",
   "metadata": {},
   "outputs": [
    {
     "name": "stdout",
     "output_type": "stream",
     "text": [
      "   one  two\n",
      "a  1.0    1\n",
      "b  2.0    2\n",
      "c  3.0    3\n",
      "d  4.0    4\n",
      "e  5.0    5\n",
      "f  NaN    6\n",
      "one    2.0\n",
      "two    2.0\n",
      "Name: b, dtype: float64\n"
     ]
    }
   ],
   "source": [
    "# importing the pandas library  \n",
    "import pandas as pd  \n",
    "  \n",
    "info = {'one' : pd.Series([1, 2, 3, 4, 5], index=['a', 'b', 'c', 'd', 'e']),   \n",
    "   'two' : pd.Series([1, 2, 3, 4, 5, 6], index=['a', 'b', 'c', 'd', 'e', 'f'])}  \n",
    "  \n",
    "df = pd.DataFrame(info)  \n",
    "print(df)\n",
    "print (df.loc['b'])"
   ]
  },
  {
   "cell_type": "code",
   "execution_count": 54,
   "id": "1c2eaab5-4bd0-47f4-85b0-13c15ea1295b",
   "metadata": {},
   "outputs": [
    {
     "name": "stdout",
     "output_type": "stream",
     "text": [
      "one    4.0\n",
      "two    4.0\n",
      "Name: d, dtype: float64\n"
     ]
    }
   ],
   "source": [
    "# importing the pandas library  \n",
    "import pandas as pd  \n",
    "info = {'one' : pd.Series([1, 2, 3, 4, 5], index=['a', 'b', 'c', 'd', 'e']),  \n",
    "   'two' : pd.Series([1, 2, 3, 4, 5, 6], index=['a', 'b', 'c', 'd', 'e', 'f'])}  \n",
    "df = pd.DataFrame(info)  \n",
    "print (df.iloc[3])  "
   ]
  },
  {
   "cell_type": "code",
   "execution_count": 55,
   "id": "d63b3561-4a22-46fc-ba09-5e64beaafd0d",
   "metadata": {},
   "outputs": [
    {
     "name": "stdout",
     "output_type": "stream",
     "text": [
      "   one  two\n",
      "c  3.0    3\n",
      "d  4.0    4\n",
      "e  5.0    5\n"
     ]
    }
   ],
   "source": [
    "# importing the pandas library  \n",
    "import pandas as pd  \n",
    "info = {'one' : pd.Series([1, 2, 3, 4, 5], index=['a', 'b', 'c', 'd', 'e']),   \n",
    "   'two' : pd.Series([1, 2, 3, 4, 5, 6], index=['a', 'b', 'c', 'd', 'e', 'f'])}  \n",
    "df = pd.DataFrame(info)  \n",
    "print (df[2:5])  "
   ]
  },
  {
   "cell_type": "code",
   "execution_count": 59,
   "id": "c86aa31c-8fe0-4385-a74c-cfad4fa7365e",
   "metadata": {},
   "outputs": [
    {
     "name": "stdout",
     "output_type": "stream",
     "text": [
      "    x   y\n",
      "0   7   8\n",
      "1   9  10\n",
      "2  11  12\n",
      "3  13  14\n"
     ]
    }
   ],
   "source": [
    "# Importing the pandas library  \n",
    "import pandas as pd  \n",
    "\n",
    "# Creating the first DataFrame\n",
    "d = pd.DataFrame([[7, 8], [9, 10]], columns=['x', 'y'])  \n",
    "\n",
    "# Creating the second DataFrame\n",
    "d2 = pd.DataFrame([[11, 12], [13, 14]], columns=['x', 'y'])  \n",
    "\n",
    "# Concatenating the DataFrames\n",
    "d = pd.concat([d, d2], ignore_index=True)  \n",
    "\n",
    "# Printing the combined DataFrame\n",
    "print(d)  "
   ]
  },
  {
   "cell_type": "code",
   "execution_count": 64,
   "id": "82c6a19c-80a3-4d92-990d-c6711231f818",
   "metadata": {},
   "outputs": [
    {
     "name": "stdout",
     "output_type": "stream",
     "text": [
      "    x   y\n",
      "0   4   5\n",
      "1   6   7\n",
      "0   8   9\n",
      "1  10  11\n",
      "    x   y\n",
      "1   6   7\n",
      "1  10  11\n"
     ]
    }
   ],
   "source": [
    "# importing the pandas library  \n",
    "import pandas as pd  \n",
    "  \n",
    "a_info = pd.DataFrame([[4, 5], [6, 7]], columns = ['x','y'])  \n",
    "b_info = pd.DataFrame([[8, 9], [10, 11]], columns = ['x','y'])  \n",
    "  \n",
    "a_info = pd.concat([a_info, b_info], ignore_index=False) \n",
    "print(a_info)\n",
    "  \n",
    "# Drop rows with label 0  \n",
    "a_info = a_info.drop(0)  \n",
    "print(a_info)"
   ]
  },
  {
   "cell_type": "markdown",
   "id": "c53f6467-31a9-49c6-8026-784ae2d5a168",
   "metadata": {},
   "source": [
    "## Pandas DataFrame.append()"
   ]
  },
  {
   "cell_type": "code",
   "execution_count": 68,
   "id": "0efbfcfe-9182-4f20-9392-64a0d4eb0ec7",
   "metadata": {},
   "outputs": [
    {
     "name": "stdout",
     "output_type": "stream",
     "text": [
      "    x   y     z\n",
      "0  25  47   NaN\n",
      "1  15  24   NaN\n",
      "2  12  17   NaN\n",
      "3  19  29   NaN\n",
      "4  25  47  38.0\n",
      "5  15  24  12.0\n",
      "6  12  17  45.0\n"
     ]
    }
   ],
   "source": [
    "import pandas as pd   \n",
    "\n",
    "# Create first DataFrame using dictionary   \n",
    "info1 = pd.DataFrame({\"x\": [25, 15, 12, 19],   \n",
    "                      \"y\": [47, 24, 17, 29]})     \n",
    "\n",
    "# Create second DataFrame using dictionary   \n",
    "info2 = pd.DataFrame({\"x\": [25, 15, 12],   \n",
    "                      \"y\": [47, 24, 17],    \n",
    "                      \"z\": [38, 12, 45]})   \n",
    "\n",
    "# Append info2 at the end of info1 using pd.concat\n",
    "combined_info = pd.concat([info1, info2], ignore_index=True)   \n",
    "\n",
    "# Printing the combined DataFrame\n",
    "print(combined_info)\n"
   ]
  },
  {
   "cell_type": "markdown",
   "id": "e0f300a6-49ab-4b5e-9382-2c1ed34e6189",
   "metadata": {},
   "source": [
    "## Pandas DataFrame.apply()\n",
    "\n",
    "### Syntax:\n",
    "DataFrame.apply(func, axis=0, broadcast=None, raw=False, reduce=None, result_type=None, args=(), **kwds) "
   ]
  },
  {
   "cell_type": "code",
   "execution_count": 3,
   "id": "9fb823c5-be9f-4ffc-95e5-164277293b9f",
   "metadata": {},
   "outputs": [
    {
     "name": "stdout",
     "output_type": "stream",
     "text": [
      "   P  Q\n",
      "0  2  7\n",
      "1  2  7\n",
      "2  2  7\n",
      "3  2  7\n",
      "After sqrt\n",
      "   P  Q\n",
      "0  2  7\n",
      "1  2  7\n",
      "2  2  7\n",
      "3  2  7\n",
      "After np sum axis 0\n",
      "   P  Q\n",
      "0  2  7\n",
      "1  2  7\n",
      "2  2  7\n",
      "3  2  7\n",
      "After np sum axis 1\n",
      "   P  Q\n",
      "0  2  7\n",
      "1  2  7\n",
      "2  2  7\n",
      "3  2  7\n"
     ]
    },
    {
     "data": {
      "text/html": [
       "<div>\n",
       "<style scoped>\n",
       "    .dataframe tbody tr th:only-of-type {\n",
       "        vertical-align: middle;\n",
       "    }\n",
       "\n",
       "    .dataframe tbody tr th {\n",
       "        vertical-align: top;\n",
       "    }\n",
       "\n",
       "    .dataframe thead th {\n",
       "        text-align: right;\n",
       "    }\n",
       "</style>\n",
       "<table border=\"1\" class=\"dataframe\">\n",
       "  <thead>\n",
       "    <tr style=\"text-align: right;\">\n",
       "      <th></th>\n",
       "      <th>P</th>\n",
       "      <th>Q</th>\n",
       "    </tr>\n",
       "  </thead>\n",
       "  <tbody>\n",
       "    <tr>\n",
       "      <th>0</th>\n",
       "      <td>2</td>\n",
       "      <td>7</td>\n",
       "    </tr>\n",
       "    <tr>\n",
       "      <th>1</th>\n",
       "      <td>2</td>\n",
       "      <td>7</td>\n",
       "    </tr>\n",
       "    <tr>\n",
       "      <th>2</th>\n",
       "      <td>2</td>\n",
       "      <td>7</td>\n",
       "    </tr>\n",
       "    <tr>\n",
       "      <th>3</th>\n",
       "      <td>2</td>\n",
       "      <td>7</td>\n",
       "    </tr>\n",
       "  </tbody>\n",
       "</table>\n",
       "</div>"
      ],
      "text/plain": [
       "   P  Q\n",
       "0  2  7\n",
       "1  2  7\n",
       "2  2  7\n",
       "3  2  7"
      ]
     },
     "execution_count": 3,
     "metadata": {},
     "output_type": "execute_result"
    }
   ],
   "source": [
    "import pandas as pd\n",
    "import numpy as np\n",
    "info = pd.DataFrame([[2, 7]] * 4, columns=['P', 'Q']) \n",
    "print(info)\n",
    "info.apply(np.sqrt)  \n",
    "print(\"After sqrt\")\n",
    "print(info)\n",
    "info.apply(np.sum, axis=0)\n",
    "print(\"After np sum axis 0\")\n",
    "print(info)\n",
    "info.apply(np.sum, axis=1)  \n",
    "print(\"After np sum axis 1\")\n",
    "print(info)\n",
    "info.apply(lambda x: [1, 2], axis=1)  \n",
    "info.apply(lambda x: [1, 2], axis=1, result_type='expand')  \n",
    "info.apply(lambda x: pd.Series([1, 2], index=['foo', 'bar']), axis=1)  \n",
    "info.apply(lambda x: [1, 2], axis=1, result_type='broadcast')  \n",
    "info  "
   ]
  },
  {
   "cell_type": "code",
   "execution_count": 6,
   "id": "8eeb599a-3801-47e4-83eb-f114205a14bb",
   "metadata": {},
   "outputs": [
    {
     "name": "stdout",
     "output_type": "stream",
     "text": [
      "Original DataFrame:\n",
      "   P  Q\n",
      "0  2  7\n",
      "1  2  7\n",
      "2  2  7\n",
      "3  2  7\n",
      "After applying square root:\n",
      "          P         Q\n",
      "0  1.414214  2.645751\n",
      "1  1.414214  2.645751\n",
      "2  1.414214  2.645751\n",
      "3  1.414214  2.645751\n",
      "Column sums:\n",
      "P     8\n",
      "Q    28\n",
      "dtype: int64\n",
      "Row sums:\n",
      "0    9\n",
      "1    9\n",
      "2    9\n",
      "3    9\n",
      "dtype: int64\n",
      "After lambda returning [1, 2]:\n",
      "0    [1, 2]\n",
      "1    [1, 2]\n",
      "2    [1, 2]\n",
      "3    [1, 2]\n",
      "dtype: object\n",
      "After lambda returning [1, 2] with result_type='expand':\n",
      "   0  1\n",
      "0  1  2\n",
      "1  1  2\n",
      "2  1  2\n",
      "3  1  2\n",
      "After lambda returning pd.Series with custom indices:\n",
      "   foo  bar\n",
      "0    1    2\n",
      "1    1    2\n",
      "2    1    2\n",
      "3    1    2\n",
      "After lambda with result_type='broadcast':\n",
      "   P  Q\n",
      "0  1  2\n",
      "1  1  2\n",
      "2  1  2\n",
      "3  1  2\n"
     ]
    }
   ],
   "source": [
    "import pandas as pd\n",
    "import numpy as np\n",
    "\n",
    "info = pd.DataFrame([[2, 7]] * 4, columns=['P', 'Q']) \n",
    "print(\"Original DataFrame:\")\n",
    "print(info)\n",
    "\n",
    "# Applying square root\n",
    "info_sqrt = info.apply(np.sqrt)  \n",
    "print(\"After applying square root:\")\n",
    "print(info_sqrt)\n",
    "\n",
    "# Summing column-wise\n",
    "column_sums = info.apply(np.sum, axis=0)\n",
    "print(\"Column sums:\")\n",
    "print(column_sums)\n",
    "\n",
    "# Summing row-wise\n",
    "row_sums = info.apply(np.sum, axis=1)  \n",
    "print(\"Row sums:\")\n",
    "print(row_sums)\n",
    "\n",
    "# Apply lambda functions\n",
    "result1 = info.apply(lambda x: [1, 2], axis=1)\n",
    "print(\"After lambda returning [1, 2]:\")\n",
    "print(result1)\n",
    "\n",
    "result2 = info.apply(lambda x: [1, 2], axis=1, result_type='expand')\n",
    "print(\"After lambda returning [1, 2] with result_type='expand':\")\n",
    "print(result2)\n",
    "\n",
    "result3 = info.apply(lambda x: pd.Series([1, 2], index=['foo', 'bar']), axis=1)\n",
    "print(\"After lambda returning pd.Series with custom indices:\")\n",
    "print(result3)\n",
    "\n",
    "result4 = info.apply(lambda x: [1, 2], axis=1, result_type='broadcast')\n",
    "print(\"After lambda with result_type='broadcast':\")\n",
    "print(result4)\n"
   ]
  },
  {
   "cell_type": "markdown",
   "id": "5b09ec2d-63fb-4320-acc7-983c59028a13",
   "metadata": {},
   "source": [
    "## Pandas DataFrame.aggregate()\n",
    "\n",
    "### Syntax:\n",
    "DataFrame.aggregate(func, axis=0, *args, **kwargs)"
   ]
  },
  {
   "cell_type": "code",
   "execution_count": 7,
   "id": "513f6725-676c-4c71-a070-c3fb3f510d11",
   "metadata": {},
   "outputs": [
    {
     "data": {
      "text/html": [
       "<div>\n",
       "<style scoped>\n",
       "    .dataframe tbody tr th:only-of-type {\n",
       "        vertical-align: middle;\n",
       "    }\n",
       "\n",
       "    .dataframe tbody tr th {\n",
       "        vertical-align: top;\n",
       "    }\n",
       "\n",
       "    .dataframe thead th {\n",
       "        text-align: right;\n",
       "    }\n",
       "</style>\n",
       "<table border=\"1\" class=\"dataframe\">\n",
       "  <thead>\n",
       "    <tr style=\"text-align: right;\">\n",
       "      <th></th>\n",
       "      <th>X</th>\n",
       "      <th>Y</th>\n",
       "      <th>Z</th>\n",
       "    </tr>\n",
       "  </thead>\n",
       "  <tbody>\n",
       "    <tr>\n",
       "      <th>sum</th>\n",
       "      <td>29.0</td>\n",
       "      <td>38.0</td>\n",
       "      <td>46.0</td>\n",
       "    </tr>\n",
       "    <tr>\n",
       "      <th>min</th>\n",
       "      <td>1.0</td>\n",
       "      <td>5.0</td>\n",
       "      <td>7.0</td>\n",
       "    </tr>\n",
       "  </tbody>\n",
       "</table>\n",
       "</div>"
      ],
      "text/plain": [
       "        X     Y     Z\n",
       "sum  29.0  38.0  46.0\n",
       "min   1.0   5.0   7.0"
      ]
     },
     "execution_count": 7,
     "metadata": {},
     "output_type": "execute_result"
    }
   ],
   "source": [
    "import pandas as pd  \n",
    "import numpy as np  \n",
    "info=pd.DataFrame([[1,5,7],[10,12,15],[18,21,24],[np.nan,np.nan,np.nan]],columns=['X','Y','Z'])  \n",
    "info.agg(['sum','min'])  "
   ]
  },
  {
   "cell_type": "code",
   "execution_count": 13,
   "id": "f04bccbb-95d2-4443-a5af-909a7832688a",
   "metadata": {},
   "outputs": [
    {
     "name": "stdout",
     "output_type": "stream",
     "text": [
      "        X     Y     Z\n",
      "sum  29.0   NaN  46.0\n",
      "min   1.0   5.0   NaN\n",
      "max   NaN  21.0  24.0\n"
     ]
    }
   ],
   "source": [
    "import pandas as pd  \n",
    "import numpy as np  \n",
    "\n",
    "info = pd.DataFrame([[1,5,7],[10,12,15],[18,21,24],[np.nan,np.nan,np.nan]], columns=['X','Y','Z'])  \n",
    "\n",
    "# Apply aggregate functions to existing columns\n",
    "result = info.agg({'X': ['sum', 'min'], 'Y': ['min', 'max'], 'Z': ['sum', 'max']})\n",
    "print(result)\n",
    "  "
   ]
  },
  {
   "cell_type": "markdown",
   "id": "a714a481-801d-4508-b4ab-44680ff51691",
   "metadata": {},
   "source": [
    "## Pandas DataFrame.assign\n",
    "### Signature\n",
    "DataFrame.assign(**kwargs)"
   ]
  },
  {
   "cell_type": "code",
   "execution_count": 15,
   "id": "9d2adcf7-5c56-4c66-ad99-acd6438445b3",
   "metadata": {},
   "outputs": [
    {
     "data": {
      "text/html": [
       "<div>\n",
       "<style scoped>\n",
       "    .dataframe tbody tr th:only-of-type {\n",
       "        vertical-align: middle;\n",
       "    }\n",
       "\n",
       "    .dataframe tbody tr th {\n",
       "        vertical-align: top;\n",
       "    }\n",
       "\n",
       "    .dataframe thead th {\n",
       "        text-align: right;\n",
       "    }\n",
       "</style>\n",
       "<table border=\"1\" class=\"dataframe\">\n",
       "  <thead>\n",
       "    <tr style=\"text-align: right;\">\n",
       "      <th></th>\n",
       "      <th>ID</th>\n",
       "      <th>Name</th>\n",
       "    </tr>\n",
       "  </thead>\n",
       "  <tbody>\n",
       "    <tr>\n",
       "      <th>0</th>\n",
       "      <td>101</td>\n",
       "      <td>Smith</td>\n",
       "    </tr>\n",
       "    <tr>\n",
       "      <th>1</th>\n",
       "      <td>102</td>\n",
       "      <td>Parker</td>\n",
       "    </tr>\n",
       "    <tr>\n",
       "      <th>2</th>\n",
       "      <td>103</td>\n",
       "      <td>John</td>\n",
       "    </tr>\n",
       "  </tbody>\n",
       "</table>\n",
       "</div>"
      ],
      "text/plain": [
       "    ID    Name\n",
       "0  101   Smith\n",
       "1  102  Parker\n",
       "2  103    John"
      ]
     },
     "execution_count": 15,
     "metadata": {},
     "output_type": "execute_result"
    }
   ],
   "source": [
    "import pandas as pd  \n",
    "# Create an empty dataframe  \n",
    "info = pd.DataFrame()  \n",
    "  \n",
    "# Create a column  \n",
    "info['ID'] = [101, 102, 103]  \n",
    "  \n",
    "# View the dataframe  \n",
    "info  \n",
    "# Assign a new column to dataframe called 'age'   \n",
    "info.assign(Name = ['Smith', 'Parker', 'John'])  "
   ]
  },
  {
   "cell_type": "code",
   "execution_count": 19,
   "id": "125a6645-74b3-49da-9aeb-fb443fd3e054",
   "metadata": {},
   "outputs": [
    {
     "data": {
      "text/html": [
       "<div>\n",
       "<style scoped>\n",
       "    .dataframe tbody tr th:only-of-type {\n",
       "        vertical-align: middle;\n",
       "    }\n",
       "\n",
       "    .dataframe tbody tr th {\n",
       "        vertical-align: top;\n",
       "    }\n",
       "\n",
       "    .dataframe thead th {\n",
       "        text-align: right;\n",
       "    }\n",
       "</style>\n",
       "<table border=\"1\" class=\"dataframe\">\n",
       "  <thead>\n",
       "    <tr style=\"text-align: right;\">\n",
       "      <th></th>\n",
       "      <th>temp_c</th>\n",
       "      <th>temp_f</th>\n",
       "      <th>temp_k</th>\n",
       "    </tr>\n",
       "  </thead>\n",
       "  <tbody>\n",
       "    <tr>\n",
       "      <th>Canada</th>\n",
       "      <td>17.0</td>\n",
       "      <td>72.0</td>\n",
       "      <td>621.405</td>\n",
       "    </tr>\n",
       "    <tr>\n",
       "      <th>Australia</th>\n",
       "      <td>25.0</td>\n",
       "      <td>96.0</td>\n",
       "      <td>657.405</td>\n",
       "    </tr>\n",
       "  </tbody>\n",
       "</table>\n",
       "</div>"
      ],
      "text/plain": [
       "           temp_c  temp_f   temp_k\n",
       "Canada       17.0    72.0  621.405\n",
       "Australia    25.0    96.0  657.405"
      ]
     },
     "execution_count": 19,
     "metadata": {},
     "output_type": "execute_result"
    }
   ],
   "source": [
    "import pandas as pd  \n",
    "# Create a dataframe  \n",
    "info = pd.DataFrame({'temp_c': [17.0, 25.0]},  \n",
    "# Create an index that consist some values  \n",
    "index=['Canada', 'Australia'])  \n",
    "# View the dataframe  \n",
    "info  \n",
    "# info.assign(temp_f=lambda x: x.temp_c * 7 / 2 + 24)  \n",
    "info.assign(temp_f=lambda x: x['temp_c'] * 6 / 2 + 21,  \n",
    "temp_k=lambda x: (x['temp_f'] +  342.27) * 6 / 4) "
   ]
  },
  {
   "cell_type": "markdown",
   "id": "88ea5a9c-ba97-402e-9d36-384155272498",
   "metadata": {},
   "source": [
    "## Pandas DataFrame.astype()\n",
    "\n",
    "### Syntax\n",
    "> DataFrame.astype(dtype, copy=True, errors='raise', **kwargs)  "
   ]
  },
  {
   "cell_type": "code",
   "execution_count": 20,
   "id": "9fe5f915-0fea-4d51-ac47-daf6dd986347",
   "metadata": {},
   "outputs": [
    {
     "data": {
      "text/plain": [
       "0    10\n",
       "1     2\n",
       "dtype: int64"
      ]
     },
     "execution_count": 20,
     "metadata": {},
     "output_type": "execute_result"
    }
   ],
   "source": [
    "import pandas as pd  \n",
    "a = {'col1': [1, 2], 'col2': [3, 4]}  \n",
    "info = pd.DataFrame(data=a)  \n",
    "info.dtypes  \n",
    "# We convert it into 'int64' type.  \n",
    "info.astype('int64').dtypes  \n",
    "info.astype({'col1': 'int64'}).dtypes  \n",
    "x = pd.Series([1, 2], dtype='int64')  \n",
    "x.astype('category')  \n",
    "cat_dtype = pd.api.types.CategoricalDtype(  \n",
    "categories=[2, 1], ordered=True)  \n",
    "x.astype(cat_dtype)  \n",
    "x1 = pd.Series([1,2])  \n",
    "x2 = x1.astype('int64', copy=False)  \n",
    "x2[0] = 10  \n",
    "x1  # note that x1[0] has changed too  "
   ]
  },
  {
   "cell_type": "code",
   "execution_count": null,
   "id": "cace76cf-8557-4652-b832-cdd4e1b0034b",
   "metadata": {},
   "outputs": [],
   "source": []
  },
  {
   "cell_type": "code",
   "execution_count": null,
   "id": "b1b47a07-fc8a-464e-82d6-cb8ae232a5e6",
   "metadata": {},
   "outputs": [],
   "source": []
  },
  {
   "cell_type": "code",
   "execution_count": null,
   "id": "7fdb6b8b-ca16-4f4b-bc63-e57a4ae774e4",
   "metadata": {},
   "outputs": [],
   "source": []
  },
  {
   "cell_type": "code",
   "execution_count": null,
   "id": "59194b86-d420-41f2-aee5-d29a8d30378b",
   "metadata": {},
   "outputs": [],
   "source": []
  },
  {
   "cell_type": "code",
   "execution_count": null,
   "id": "82b29660-240e-424f-a257-3f4576c7169d",
   "metadata": {},
   "outputs": [],
   "source": []
  }
 ],
 "metadata": {
  "kernelspec": {
   "display_name": "Python 3 (ipykernel)",
   "language": "python",
   "name": "python3"
  },
  "language_info": {
   "codemirror_mode": {
    "name": "ipython",
    "version": 3
   },
   "file_extension": ".py",
   "mimetype": "text/x-python",
   "name": "python",
   "nbconvert_exporter": "python",
   "pygments_lexer": "ipython3",
   "version": "3.10.11"
  }
 },
 "nbformat": 4,
 "nbformat_minor": 5
}
